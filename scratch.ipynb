{
 "cells": [
  {
   "cell_type": "code",
   "execution_count": 1,
   "metadata": {},
   "outputs": [
    {
     "name": "stdout",
     "output_type": "stream",
     "text": [
      "First 5 rows of the data:\n",
      "   Rank                     Name                  Category  \\\n",
      "0     1                   Framer   Design & Creative tools   \n",
      "1     2  Creative Fabrica Studio  Media & Content creation   \n",
      "2     3                   Bynder   Marketing & Advertising   \n",
      "3     4                  Scribbr      Education & Learning   \n",
      "4     5        Pyramid Analytics  Data science & Analytics   \n",
      "\n",
      "                      Website  \\\n",
      "0                  framer.com   \n",
      "1  studio.creativefabrica.com   \n",
      "2                  bynder.com   \n",
      "3                 scribbr.com   \n",
      "4        pyramidanalytics.com   \n",
      "\n",
      "                                             address  \n",
      "0                 Rozengracht 207, 1016 LZ Amsterdam  \n",
      "1   Westerstraat 187, 1015 MA Amsterdam, Netherlands  \n",
      "2  Max Euweplein 46, 1017 MB, Amsterdam, The Neth...  \n",
      "3      542 Singel, 1017AZ Amsterdam, the Netherlands  \n",
      "4                  Jollemanhof 22, 1019 GW Amsterdam  \n",
      "\n",
      "Column names:\n",
      "['Rank', 'Name', 'Category', 'Website', 'address']\n"
     ]
    }
   ],
   "source": [
    "import pandas as pd\n",
    "\n",
    "# Read the CSV file\n",
    "df = pd.read_csv('ai_companies3.csv')\n",
    "\n",
    "# Display the first 5 rows\n",
    "print(\"First 5 rows of the data:\")\n",
    "print(df.head())\n",
    "\n",
    "# Display column names\n",
    "print(\"\\nColumn names:\")\n",
    "print(df.columns.tolist())"
   ]
  }
 ],
 "metadata": {
  "kernelspec": {
   "display_name": "venv",
   "language": "python",
   "name": "python3"
  },
  "language_info": {
   "codemirror_mode": {
    "name": "ipython",
    "version": 3
   },
   "file_extension": ".py",
   "mimetype": "text/x-python",
   "name": "python",
   "nbconvert_exporter": "python",
   "pygments_lexer": "ipython3",
   "version": "3.12.10"
  }
 },
 "nbformat": 4,
 "nbformat_minor": 2
}
